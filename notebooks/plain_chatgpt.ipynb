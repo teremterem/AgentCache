{
 "cells": [
  {
   "cell_type": "code",
   "execution_count": 1,
   "id": "initial_id",
   "metadata": {
    "collapsed": true,
    "ExecuteTime": {
     "end_time": "2023-10-15T17:45:15.589241Z",
     "start_time": "2023-10-15T17:45:15.510299Z"
    }
   },
   "outputs": [],
   "source": [
    "%autoawait True\n",
    "\n",
    "from dotenv import load_dotenv\n",
    "\n",
    "load_dotenv()\n",
    "\n",
    "from agentcache.agents import AgentFirstDraft\n",
    "\n",
    "agent = AgentFirstDraft()"
   ]
  },
  {
   "cell_type": "code",
   "execution_count": 2,
   "outputs": [
    {
     "name": "stdout",
     "output_type": "stream",
     "text": [
      "The Moon is like a giant glowing pearl hanging in the velvet sky.\n",
      "It's as vast as a luminous silver coin, suspended in the vastness of space.\n",
      "The Moon is a celestial beauty, like a breathtaking marble sculpture delicately resting among the stars.\n",
      "\n",
      "It stands as a silent sentinel, resembling a cosmic diamond that softly illuminates the dark night.\n",
      "The Moon is a celestial monarch with a commanding presence, comparable to a magnificent silver mirror reflecting the sunlight back to us.\n"
     ]
    }
   ],
   "source": [
    "response = await agent.arun(\n",
    "    \"How big is the Moon? Use metaphors to describe it.\",\n",
    "    model=\"gpt-3.5-turbo-0613\",\n",
    "    stream=True,\n",
    ")\n",
    "async for token in response:\n",
    "    print(token.text, end=\"\", flush=True)\n",
    "print()"
   ],
   "metadata": {
    "collapsed": false,
    "ExecuteTime": {
     "end_time": "2023-10-15T17:45:18.568997Z",
     "start_time": "2023-10-15T17:45:15.590091Z"
    }
   },
   "id": "af36f81e520089a5"
  },
  {
   "cell_type": "code",
   "execution_count": 2,
   "outputs": [],
   "source": [],
   "metadata": {
    "collapsed": false,
    "ExecuteTime": {
     "end_time": "2023-10-15T17:45:18.572544Z",
     "start_time": "2023-10-15T17:45:18.568925Z"
    }
   },
   "id": "36a8aafe9d1c44bf"
  }
 ],
 "metadata": {
  "kernelspec": {
   "display_name": "Python 3",
   "language": "python",
   "name": "python3"
  },
  "language_info": {
   "codemirror_mode": {
    "name": "ipython",
    "version": 2
   },
   "file_extension": ".py",
   "mimetype": "text/x-python",
   "name": "python",
   "nbconvert_exporter": "python",
   "pygments_lexer": "ipython2",
   "version": "2.7.6"
  }
 },
 "nbformat": 4,
 "nbformat_minor": 5
}
