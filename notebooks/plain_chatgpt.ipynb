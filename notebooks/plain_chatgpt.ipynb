{
 "cells": [
  {
   "cell_type": "code",
   "execution_count": 1,
   "outputs": [],
   "source": [
    "%autoawait True"
   ],
   "metadata": {
    "collapsed": false,
    "ExecuteTime": {
     "end_time": "2023-10-15T18:04:59.694461Z",
     "start_time": "2023-10-15T18:04:59.688521Z"
    }
   },
   "id": "e04906ef98f811c2"
  },
  {
   "cell_type": "code",
   "execution_count": 2,
   "outputs": [],
   "source": [
    "from dotenv import load_dotenv\n",
    "\n",
    "load_dotenv()\n",
    "\n",
    "from agentcache.agents import AgentFirstDraft\n",
    "from agentcache.models import StreamedMessage\n",
    "\n",
    "agent = AgentFirstDraft()\n",
    "kwargs = {\n",
    "    \"model\": \"gpt-3.5-turbo-0613\",\n",
    "    \"stream\": True,\n",
    "}\n",
    "\n",
    "\n",
    "async def print_response(response: StreamedMessage) -> None:\n",
    "    \"\"\"Create the effect of a typewriter by printing one token at a time.\"\"\"\n",
    "    async for token in response:\n",
    "        print(token.text, end=\"\", flush=True)\n",
    "    print()"
   ],
   "metadata": {
    "collapsed": false,
    "ExecuteTime": {
     "end_time": "2023-10-15T18:04:59.759396Z",
     "start_time": "2023-10-15T18:04:59.693730Z"
    }
   },
   "id": "832a6d62b41d6cd4"
  },
  {
   "cell_type": "code",
   "execution_count": 3,
   "outputs": [
    {
     "name": "stdout",
     "output_type": "stream",
     "text": [
      "The Moon is like a shining pearl in the vast jewelry box of the night sky.\n",
      "It is like a pale lantern, glowing peacefully against the backdrop of darkness.\n",
      "The Moon is a celestial disk, gently hanging like a silver plate in the heavens.\n",
      "It is akin to a captivating storyteller, drawing our attention with its ethereal presence.\n",
      "The Moon is like a serene water droplet in the infinite ocean of space.\n",
      "It appears as a celestial marble, gently rolling along its elliptical path.\n"
     ]
    }
   ],
   "source": [
    "await print_response(await agent.arun(\"How big is the Moon? Use metaphors to describe it.\", **kwargs))"
   ],
   "metadata": {
    "collapsed": false,
    "ExecuteTime": {
     "end_time": "2023-10-15T18:05:02.390394Z",
     "start_time": "2023-10-15T18:04:59.759767Z"
    }
   },
   "id": "af36f81e520089a5"
  },
  {
   "cell_type": "code",
   "execution_count": 4,
   "outputs": [
    {
     "name": "stdout",
     "output_type": "stream",
     "text": [
      "1. The metaphor of the Moon being a shining pearl in the night sky emphasizes its luminous and exquisite nature. Just as a pearl is treasured and stands out in a jewelry box, the Moon captivates our attention and shines among the stars.\n",
      "2. Comparing the Moon to a pale lantern highlights its gentle glow amidst the darkness of the night sky. Just as a lantern guides and illuminates, the Moon can guide us with its tranquil presence.\n",
      "\n",
      "3. Describing the Moon as a celestial disk hanging like a silver plate captures its circular shape and silvery appearance. It emphasizes its position as a prominent celestial object in the sky.\n",
      "4. Portraying the Moon as a storytelling presence reflects its ability to capture our imagination. Like a skilled storyteller, the Moon draws us in, encouraging us to contemplate its mysteries and stories that have been told through the ages.\n",
      "5. Comparing the Moon to a serene water droplet in the ocean of space evokes a sense of tranquility and delicacy. Just as a droplet calmly floats in the vastness of the ocean, the Moon seems to peacefully float in the vast expanse of the universe.\n",
      "6. Describing the Moon as a celestial marble that rolls along its elliptical path brings attention to its trajectory and movement in space. It highlights both its circular shape and the fact that it continuously orbits around the Earth.\n"
     ]
    }
   ],
   "source": [
    "await print_response(await agent.arun(\"Now, explain your metaphors.\", **kwargs))"
   ],
   "metadata": {
    "collapsed": false,
    "ExecuteTime": {
     "end_time": "2023-10-15T18:05:09.206723Z",
     "start_time": "2023-10-15T18:05:02.390288Z"
    }
   },
   "id": "36a8aafe9d1c44bf"
  },
  {
   "cell_type": "code",
   "execution_count": 4,
   "outputs": [],
   "source": [],
   "metadata": {
    "collapsed": false,
    "ExecuteTime": {
     "end_time": "2023-10-15T18:05:09.206884Z",
     "start_time": "2023-10-15T18:05:09.201557Z"
    }
   },
   "id": "b73cd6f1e736bdc1"
  }
 ],
 "metadata": {
  "kernelspec": {
   "display_name": "Python 3",
   "language": "python",
   "name": "python3"
  },
  "language_info": {
   "codemirror_mode": {
    "name": "ipython",
    "version": 2
   },
   "file_extension": ".py",
   "mimetype": "text/x-python",
   "name": "python",
   "nbconvert_exporter": "python",
   "pygments_lexer": "ipython2",
   "version": "2.7.6"
  }
 },
 "nbformat": 4,
 "nbformat_minor": 5
}
