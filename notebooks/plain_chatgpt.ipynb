{
 "cells": [
  {
   "cell_type": "code",
   "execution_count": 1,
   "id": "initial_id",
   "metadata": {
    "collapsed": true,
    "ExecuteTime": {
     "end_time": "2023-10-15T17:58:29.599144Z",
     "start_time": "2023-10-15T17:58:29.530761Z"
    }
   },
   "outputs": [],
   "source": [
    "from agentcache.models import StreamedMessage\n",
    "%autoawait True\n",
    "\n",
    "from dotenv import load_dotenv\n",
    "\n",
    "load_dotenv()\n",
    "\n",
    "from agentcache.agents import AgentFirstDraft\n",
    "\n",
    "agent = AgentFirstDraft()\n",
    "kwargs = {\n",
    "    \"model\": \"gpt-3.5-turbo-0613\",\n",
    "    \"stream\": True,\n",
    "}\n",
    "\n",
    "\n",
    "async def print_response(response: StreamedMessage) -> None:\n",
    "    \"\"\"Create the effect of a typewriter by printing one token at a time.\"\"\"\n",
    "    async for token in response:\n",
    "        print(token.text, end=\"\", flush=True)\n",
    "    print()"
   ]
  },
  {
   "cell_type": "code",
   "execution_count": 2,
   "outputs": [
    {
     "name": "stdout",
     "output_type": "stream",
     "text": [
      "The Moon, our celestial companion, surpasses ordinary comparisons with its captivating size:\n",
      "1. If the Earth were a basketball, the Moon would resemble a tennis ball orbiting around it.\n",
      "2. Picture a colossal pearl suspended in the vast cosmic ocean, with a diameter about a quarter that of our home planet.\n",
      "3. Envision a celestial lantern, roughly the size of three African elephants stacked atop each other, illuminating the night sky.\n",
      "4. Imagine a celestial disc, nearly as wide as 27,000 average human footsteps placed side by side, adorning the heavens.\n",
      "5. Visualize a colossal cosmic pancake, roughly 1/80th of the Earth's size, gracefully hovering in space.\n",
      "\n",
      "These metaphors offer glimpses of the Moon's grandeur, serving as a reminder of its remarkable presence in our cosmic neighborhood.\n"
     ]
    }
   ],
   "source": [
    "await print_response(await agent.arun(\"How big is the Moon? Use metaphors to describe it.\", **kwargs))"
   ],
   "metadata": {
    "collapsed": false,
    "ExecuteTime": {
     "end_time": "2023-10-15T17:58:33.960125Z",
     "start_time": "2023-10-15T17:58:29.599474Z"
    }
   },
   "id": "af36f81e520089a5"
  },
  {
   "cell_type": "code",
   "execution_count": 3,
   "outputs": [
    {
     "name": "stdout",
     "output_type": "stream",
     "text": [
      "Certainly! Let's delve deeper into the explanations behind the metaphors used to describe the size of the Moon:\n",
      "\n",
      "1. Basketball and tennis ball: The comparison of the Earth to a basketball and the Moon to a tennis ball helps illustrate the relative size difference between the two bodies. Just as a tennis ball appears much smaller next to a basketball, the Moon appears significantly smaller compared to our planet.\n",
      "2. Colossal pearl: The metaphor of a colossal pearl floating in the cosmic ocean emphasizes the Moon's elegance and beauty. Like a pearl, the Moon is mesmerizing, captivating observers with its luminosity and radiant presence in the night sky.\n",
      "3. Celestial lantern: The Moon acts as a celestial lantern, lighting up the darkness of the night sky. By comparing it to three African elephants stacked atop one another, the metaphor accentuates the Moon's substantial size and how it illuminates the darkness like a luminous lantern.\n",
      "4. Celestial disc: This metaphor portrays the Moon as a circular disc suspended in the heavens. The visualization of 27,000 human footsteps side by side emphasizes the diameter of the Moon, evoking a sense of its majesty against the backdrop of infinite space.\n",
      "\n",
      "5. Cosmic pancake: Imagining the Moon as a cosmic pancake highlights its relatively smaller size compared to Earth. Just as a pancake is much thinner and smaller than a full meal, the Moon is proportionally smaller but still significant enough to capture our attention and inspire our fascination.\n",
      "These explanations aim to unravel the metaphors' intention, revealing the Moon's immensity and allure as it hangs in the vastness of space.\n"
     ]
    }
   ],
   "source": [
    "await print_response(await agent.arun(\"Now, explain your metaphors.\", **kwargs))"
   ],
   "metadata": {
    "collapsed": false,
    "ExecuteTime": {
     "end_time": "2023-10-15T17:58:40.144298Z",
     "start_time": "2023-10-15T17:58:33.959621Z"
    }
   },
   "id": "36a8aafe9d1c44bf"
  }
 ],
 "metadata": {
  "kernelspec": {
   "display_name": "Python 3",
   "language": "python",
   "name": "python3"
  },
  "language_info": {
   "codemirror_mode": {
    "name": "ipython",
    "version": 2
   },
   "file_extension": ".py",
   "mimetype": "text/x-python",
   "name": "python",
   "nbconvert_exporter": "python",
   "pygments_lexer": "ipython2",
   "version": "2.7.6"
  }
 },
 "nbformat": 4,
 "nbformat_minor": 5
}
