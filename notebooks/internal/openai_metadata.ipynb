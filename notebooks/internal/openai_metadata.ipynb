{
 "cells": [
  {
   "cell_type": "code",
   "execution_count": 1,
   "outputs": [],
   "source": [
    "%autoawait True"
   ],
   "metadata": {
    "collapsed": false,
    "ExecuteTime": {
     "end_time": "2023-10-15T22:00:47.341489Z",
     "start_time": "2023-10-15T22:00:47.337793Z"
    }
   },
   "id": "e04906ef98f811c2"
  },
  {
   "cell_type": "code",
   "execution_count": 2,
   "outputs": [],
   "source": [
    "from dotenv import load_dotenv\n",
    "\n",
    "load_dotenv()\n",
    "\n",
    "from agentcache.agents import AgentFirstDraft\n",
    "\n",
    "agent = AgentFirstDraft()"
   ],
   "metadata": {
    "collapsed": false,
    "ExecuteTime": {
     "end_time": "2023-10-15T22:00:47.408354Z",
     "start_time": "2023-10-15T22:00:47.342566Z"
    }
   },
   "id": "832a6d62b41d6cd4"
  },
  {
   "cell_type": "code",
   "execution_count": 3,
   "outputs": [
    {
     "data": {
      "text/plain": "Message(content='Hello! How can I help you today?', metadata=Metadata(openai_id='chatcmpl-8A3SBrAwCqEjb2dfQCJEPMqUaJDcK', openai_object='chat.completion.chunk', openai_created=1697407247, openai_model='gpt-3.5-turbo-0613', openai_role='assistant', openai_finish_reason='stop'))"
     },
     "execution_count": 3,
     "metadata": {},
     "output_type": "execute_result"
    }
   ],
   "source": [
    "response = await agent.arun(\"Hello\", model=\"gpt-3.5-turbo-0613\", stream=True)\n",
    "async for token in response:\n",
    "    pass\n",
    "response.get_full_message()"
   ],
   "metadata": {
    "collapsed": false,
    "ExecuteTime": {
     "end_time": "2023-10-15T22:00:48.223822Z",
     "start_time": "2023-10-15T22:00:47.408753Z"
    }
   },
   "id": "af36f81e520089a5"
  },
  {
   "cell_type": "code",
   "execution_count": 4,
   "outputs": [
    {
     "data": {
      "text/plain": "Message(content='Sure, I can repeat that for you. How can I assist you today?', metadata=Metadata(openai_id='chatcmpl-8A3SCRThWSRFX8Gpk1QW8xGgSEAzK', openai_object='chat.completion', openai_created=1697407248, openai_model='gpt-3.5-turbo-0613', openai_usage_prompt_tokens=28, openai_usage_completion_tokens=16, openai_usage_total_tokens=44, openai_finish_reason='stop', openai_role='assistant'))"
     },
     "execution_count": 4,
     "metadata": {},
     "output_type": "execute_result"
    }
   ],
   "source": [
    "response = await agent.arun(\"Come again?\", model=\"gpt-3.5-turbo-0613\")\n",
    "response"
   ],
   "metadata": {
    "collapsed": false,
    "ExecuteTime": {
     "end_time": "2023-10-15T22:00:48.808027Z",
     "start_time": "2023-10-15T22:00:48.219606Z"
    }
   },
   "id": "b73cd6f1e736bdc1"
  },
  {
   "cell_type": "code",
   "execution_count": 4,
   "outputs": [],
   "source": [],
   "metadata": {
    "collapsed": false,
    "ExecuteTime": {
     "end_time": "2023-10-15T22:00:48.808279Z",
     "start_time": "2023-10-15T22:00:48.801332Z"
    }
   },
   "id": "28681405a3af7099"
  }
 ],
 "metadata": {
  "kernelspec": {
   "display_name": "Python 3",
   "language": "python",
   "name": "python3"
  },
  "language_info": {
   "codemirror_mode": {
    "name": "ipython",
    "version": 2
   },
   "file_extension": ".py",
   "mimetype": "text/x-python",
   "name": "python",
   "nbconvert_exporter": "python",
   "pygments_lexer": "ipython2",
   "version": "2.7.6"
  }
 },
 "nbformat": 4,
 "nbformat_minor": 5
}
