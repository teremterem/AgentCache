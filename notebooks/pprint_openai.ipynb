{
 "cells": [
  {
   "cell_type": "code",
   "execution_count": 1,
   "outputs": [],
   "source": [
    "%autoawait True"
   ],
   "metadata": {
    "collapsed": false,
    "ExecuteTime": {
     "end_time": "2023-10-15T19:45:37.124740Z",
     "start_time": "2023-10-15T19:45:37.122267Z"
    }
   },
   "id": "e04906ef98f811c2"
  },
  {
   "cell_type": "code",
   "execution_count": 2,
   "outputs": [],
   "source": [
    "from dotenv import load_dotenv\n",
    "\n",
    "load_dotenv()\n",
    "\n",
    "from agentcache.agents import AgentFirstDraft\n",
    "\n",
    "agent = AgentFirstDraft()"
   ],
   "metadata": {
    "collapsed": false,
    "ExecuteTime": {
     "end_time": "2023-10-15T19:45:37.196934Z",
     "start_time": "2023-10-15T19:45:37.126660Z"
    }
   },
   "id": "832a6d62b41d6cd4"
  },
  {
   "cell_type": "code",
   "execution_count": 3,
   "outputs": [
    {
     "name": "stdout",
     "output_type": "stream",
     "text": [
      "[{'content': 'Hello', 'role': 'user'}]\n",
      "\n",
      "{'choices': [{'delta': {'content': '',\n",
      "                        'role': 'assistant'},\n",
      "              'finish_reason': None,\n",
      "              'index': 0}],\n",
      " 'created': 1697399138,\n",
      " 'id': 'chatcmpl-8A1LOyBinrV8G9Q6erWpW43GLKYOG',\n",
      " 'model': 'gpt-3.5-turbo-0613',\n",
      " 'object': 'chat.completion.chunk'}\n",
      "\n",
      "{'choices': [{'delta': {'content': 'Hi'},\n",
      "              'finish_reason': None,\n",
      "              'index': 0}],\n",
      " 'created': 1697399138,\n",
      " 'id': 'chatcmpl-8A1LOyBinrV8G9Q6erWpW43GLKYOG',\n",
      " 'model': 'gpt-3.5-turbo-0613',\n",
      " 'object': 'chat.completion.chunk'}\n",
      "\n",
      "{'choices': [{'delta': <OpenAIObject at 0x106e324f0> JSON: {\n",
      "  \"content\": \"!\"\n",
      "},\n",
      "              'finish_reason': None,\n",
      "              'index': 0}],\n",
      " 'created': 1697399138,\n",
      " 'id': 'chatcmpl-8A1LOyBinrV8G9Q6erWpW43GLKYOG',\n",
      " 'model': 'gpt-3.5-turbo-0613',\n",
      " 'object': 'chat.completion.chunk'}\n",
      "\n",
      "{'choices': [{'delta': {'content': ' How'},\n",
      "              'finish_reason': None,\n",
      "              'index': 0}],\n",
      " 'created': 1697399138,\n",
      " 'id': 'chatcmpl-8A1LOyBinrV8G9Q6erWpW43GLKYOG',\n",
      " 'model': 'gpt-3.5-turbo-0613',\n",
      " 'object': 'chat.completion.chunk'}\n",
      "\n",
      "{'choices': [{'delta': {'content': ' can'},\n",
      "              'finish_reason': None,\n",
      "              'index': 0}],\n",
      " 'created': 1697399138,\n",
      " 'id': 'chatcmpl-8A1LOyBinrV8G9Q6erWpW43GLKYOG',\n",
      " 'model': 'gpt-3.5-turbo-0613',\n",
      " 'object': 'chat.completion.chunk'}\n",
      "\n",
      "{'choices': [{'delta': {'content': ' I'},\n",
      "              'finish_reason': None,\n",
      "              'index': 0}],\n",
      " 'created': 1697399138,\n",
      " 'id': 'chatcmpl-8A1LOyBinrV8G9Q6erWpW43GLKYOG',\n",
      " 'model': 'gpt-3.5-turbo-0613',\n",
      " 'object': 'chat.completion.chunk'}\n",
      "\n",
      "{'choices': [{'delta': {'content': ' assist'},\n",
      "              'finish_reason': None,\n",
      "              'index': 0}],\n",
      " 'created': 1697399138,\n",
      " 'id': 'chatcmpl-8A1LOyBinrV8G9Q6erWpW43GLKYOG',\n",
      " 'model': 'gpt-3.5-turbo-0613',\n",
      " 'object': 'chat.completion.chunk'}\n",
      "\n",
      "{'choices': [{'delta': {'content': ' you'},\n",
      "              'finish_reason': None,\n",
      "              'index': 0}],\n",
      " 'created': 1697399138,\n",
      " 'id': 'chatcmpl-8A1LOyBinrV8G9Q6erWpW43GLKYOG',\n",
      " 'model': 'gpt-3.5-turbo-0613',\n",
      " 'object': 'chat.completion.chunk'}\n",
      "\n",
      "{'choices': [{'delta': {'content': ' today'},\n",
      "              'finish_reason': None,\n",
      "              'index': 0}],\n",
      " 'created': 1697399138,\n",
      " 'id': 'chatcmpl-8A1LOyBinrV8G9Q6erWpW43GLKYOG',\n",
      " 'model': 'gpt-3.5-turbo-0613',\n",
      " 'object': 'chat.completion.chunk'}\n",
      "\n",
      "{'choices': [{'delta': <OpenAIObject at 0x106e2d1d0> JSON: {\n",
      "  \"content\": \"?\"\n",
      "},\n",
      "              'finish_reason': None,\n",
      "              'index': 0}],\n",
      " 'created': 1697399138,\n",
      " 'id': 'chatcmpl-8A1LOyBinrV8G9Q6erWpW43GLKYOG',\n",
      " 'model': 'gpt-3.5-turbo-0613',\n",
      " 'object': 'chat.completion.chunk'}\n",
      "\n",
      "{'choices': [{'delta': <OpenAIObject at 0x106e2d540> JSON: {},\n",
      "              'finish_reason': 'stop',\n",
      "              'index': 0}],\n",
      " 'created': 1697399138,\n",
      " 'id': 'chatcmpl-8A1LOyBinrV8G9Q6erWpW43GLKYOG',\n",
      " 'model': 'gpt-3.5-turbo-0613',\n",
      " 'object': 'chat.completion.chunk'}\n"
     ]
    }
   ],
   "source": [
    "async for _ in await agent.arun(\"Hello\", model=\"gpt-3.5-turbo-0613\", stream=True):\n",
    "    pass"
   ],
   "metadata": {
    "collapsed": false,
    "ExecuteTime": {
     "end_time": "2023-10-15T19:45:39.248127Z",
     "start_time": "2023-10-15T19:45:37.197935Z"
    }
   },
   "id": "af36f81e520089a5"
  },
  {
   "cell_type": "code",
   "execution_count": 4,
   "outputs": [
    {
     "name": "stdout",
     "output_type": "stream",
     "text": [
      "[{'content': 'Hello', 'role': 'user'},\n",
      " {'content': 'Hi! How can I assist you today?', 'role': 'assistant'},\n",
      " {'content': 'Come again?', 'role': 'user'}]\n",
      "\n",
      "{'choices': [{'finish_reason': 'stop',\n",
      "              'index': 0,\n",
      "              'message': {'content': 'I apologize if my response was unclear. '\n",
      "                                     'How can I help you?',\n",
      "                          'role': 'assistant'}}],\n",
      " 'created': 1697399139,\n",
      " 'id': 'chatcmpl-8A1LPo2BK4kzxnzsTKYHDxO94Zogp',\n",
      " 'model': 'gpt-3.5-turbo-0613',\n",
      " 'object': 'chat.completion',\n",
      " 'usage': {'completion_tokens': 14,\n",
      "           'prompt_tokens': 28,\n",
      "           'total_tokens': 42}}\n"
     ]
    },
    {
     "data": {
      "text/plain": "Message(content='I apologize if my response was unclear. How can I help you?', metadata=Metadata(role='assistant'))"
     },
     "execution_count": 4,
     "metadata": {},
     "output_type": "execute_result"
    }
   ],
   "source": [
    "await agent.arun(\"Come again?\", model=\"gpt-3.5-turbo-0613\")"
   ],
   "metadata": {
    "collapsed": false,
    "ExecuteTime": {
     "end_time": "2023-10-15T19:45:40.068460Z",
     "start_time": "2023-10-15T19:45:39.250057Z"
    }
   },
   "id": "b73cd6f1e736bdc1"
  },
  {
   "cell_type": "code",
   "execution_count": 4,
   "outputs": [],
   "source": [],
   "metadata": {
    "collapsed": false,
    "ExecuteTime": {
     "end_time": "2023-10-15T19:45:40.068682Z",
     "start_time": "2023-10-15T19:45:40.066398Z"
    }
   },
   "id": "8be33d226a257136"
  }
 ],
 "metadata": {
  "kernelspec": {
   "display_name": "Python 3",
   "language": "python",
   "name": "python3"
  },
  "language_info": {
   "codemirror_mode": {
    "name": "ipython",
    "version": 2
   },
   "file_extension": ".py",
   "mimetype": "text/x-python",
   "name": "python",
   "nbconvert_exporter": "python",
   "pygments_lexer": "ipython2",
   "version": "2.7.6"
  }
 },
 "nbformat": 4,
 "nbformat_minor": 5
}
